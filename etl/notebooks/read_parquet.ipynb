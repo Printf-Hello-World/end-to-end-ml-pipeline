{
 "cells": [
  {
   "cell_type": "code",
   "execution_count": 6,
   "id": "5e2fda57",
   "metadata": {},
   "outputs": [
    {
     "name": "stdout",
     "output_type": "stream",
     "text": [
      "Found parquet files: ['../../datamart/gold/feature_store/gold_features_2018_10_01.parquet', '../../datamart/gold/feature_store/gold_features_2018_11_01.parquet', '../../datamart/gold/feature_store/gold_features_2018_12_01.parquet', '../../datamart/gold/feature_store/gold_features_2019_01_01.parquet', '../../datamart/gold/feature_store/gold_features_2019_02_01.parquet', '../../datamart/gold/feature_store/gold_features_2019_03_01.parquet', '../../datamart/gold/feature_store/gold_features_2019_04_01.parquet', '../../datamart/gold/feature_store/gold_features_2019_05_01.parquet', '../../datamart/gold/feature_store/gold_features_2019_06_01.parquet', '../../datamart/gold/feature_store/gold_features_2019_07_01.parquet', '../../datamart/gold/feature_store/gold_features_2019_08_01.parquet', '../../datamart/gold/feature_store/gold_features_2019_09_01.parquet', '../../datamart/gold/feature_store/gold_features_2019_10_01.parquet']\n",
      "         id        date client_id card_id     amount            use_chip  \\\n",
      "0  21892883  2018-10-01       114    3398 -84.000000   Swipe Transaction   \n",
      "1  21892884  2018-10-01      1697    3023   0.510000    Chip Transaction   \n",
      "2  21892885  2018-10-01        86    4041  33.410000  Online Transaction   \n",
      "3  21892886  2018-10-01      1797    5660  43.150002    Chip Transaction   \n",
      "4  21892887  2018-10-01       114    3398  56.480000   Swipe Transaction   \n",
      "\n",
      "  merchant_id merchant_city merchant_state      zip   mcc    errors  \\\n",
      "0       22204  yucca valley             ca  92284.0  5541  no_error   \n",
      "1       61968       clinton             mi  49236.0  5912   bad pin   \n",
      "2       39021        online         online      0.0  4784  no_error   \n",
      "3       54343   san leandro             ca  94577.0  4121  no_error   \n",
      "4       22204  yucca valley             ca  92284.0  5541  no_error   \n",
      "\n",
      "  year_month  current_age  retirement_age  birth_year  birth_month  gender  \\\n",
      "0    2018-10           47              65        1972           12  female   \n",
      "1    2018-10           64              67        1955            6    male   \n",
      "2    2018-10           24              65        1995            6    male   \n",
      "3    2018-10           67              65        1952           11    male   \n",
      "4    2018-10           47              65        1972           12  female   \n",
      "\n",
      "                            address  latitude  longitude  per_capita_income  \\\n",
      "0                    112 elm avenue     34.18    -118.39              16892   \n",
      "1              317 wessex boulevard     42.06     -83.97              20108   \n",
      "2               7675 main boulevard     33.00     -81.30              11384   \n",
      "3  391 martin luther king boulevard     37.71    -122.16              24971   \n",
      "4                    112 elm avenue     34.18    -118.39              16892   \n",
      "\n",
      "   yearly_income  total_debt  credit_score  num_credit_cards  card_brand  \\\n",
      "0          34441         907           725                 4  mastercard   \n",
      "1          41002       97188           685                 6        visa   \n",
      "2          23212       25138           799                 3        visa   \n",
      "3          30962       15336           743                 5        visa   \n",
      "4          34441         907           725                 4  mastercard   \n",
      "\n",
      "  card_type       card_number     expires  cvv has_chip  num_cards_issued  \\\n",
      "0     debit  5563288095981743  2023-07-01  711      yes                 2   \n",
      "1     debit  4110479205142550  2021-12-01  951      yes                 2   \n",
      "2     debit  4293438216088430  2022-04-01  847      yes                 1   \n",
      "3     debit  4144623277980192  2022-10-01  645      yes                 2   \n",
      "4     debit  5563288095981743  2023-07-01  711      yes                 2   \n",
      "\n",
      "   credit_limit acct_open_date  year_pin_last_changed card_on_dark_web  \\\n",
      "0         27447     2008-06-01                   2010               no   \n",
      "1         17104     2009-05-01                   2010               no   \n",
      "2          7967     2015-07-01                   2015               no   \n",
      "3         16008     2011-11-01                   2011               no   \n",
      "4         27447     2008-06-01                   2010               no   \n",
      "\n",
      "              mcc_description  acct_opened_months  yrs_since_pin_changed  \n",
      "0            service stations               125.8                      8  \n",
      "1  drug stores and pharmacies               114.7                      8  \n",
      "2       tolls and bridge fees                39.6                      3  \n",
      "3     taxicabs and limousines                84.2                      7  \n",
      "4            service stations               125.8                      8  \n",
      "(1510656, 40)\n"
     ]
    }
   ],
   "source": [
    "import pandas as pd\n",
    "import os\n",
    "from glob import glob\n",
    "\n",
    "folder_path = \"../../datamart/gold/feature_store\"\n",
    "parquet_files = glob(os.path.join(folder_path, \"*.parquet\"))\n",
    "\n",
    "print(\"Found parquet files:\", parquet_files) \n",
    "\n",
    "pd.set_option('display.max_columns', None)\n",
    "\n",
    "df = pd.concat([pd.read_parquet(f) for f in parquet_files], ignore_index=True)\n",
    "print(df.head())\n",
    "print(df.shape)\n"
   ]
  },
  {
   "cell_type": "code",
   "execution_count": 4,
   "id": "3118b958",
   "metadata": {},
   "outputs": [
    {
     "name": "stdout",
     "output_type": "stream",
     "text": [
      "Current working directory: /app/etl/notebooks\n"
     ]
    }
   ],
   "source": [
    "import os\n",
    "print(\"Current working directory:\", os.getcwd())\n"
   ]
  }
 ],
 "metadata": {
  "kernelspec": {
   "display_name": "Python 3",
   "language": "python",
   "name": "python3"
  },
  "language_info": {
   "codemirror_mode": {
    "name": "ipython",
    "version": 3
   },
   "file_extension": ".py",
   "mimetype": "text/x-python",
   "name": "python",
   "nbconvert_exporter": "python",
   "pygments_lexer": "ipython3",
   "version": "3.12.11"
  }
 },
 "nbformat": 4,
 "nbformat_minor": 5
}
